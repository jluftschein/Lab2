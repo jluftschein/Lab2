{
  "nbformat": 4,
  "nbformat_minor": 0,
  "metadata": {
    "colab": {
      "name": "FinalLab2 -10 heuristics.ipynb",
      "provenance": [],
      "include_colab_link": true
    },
    "kernelspec": {
      "name": "python3",
      "display_name": "Python 3"
    }
  },
  "cells": [
    {
      "cell_type": "markdown",
      "metadata": {
        "id": "view-in-github",
        "colab_type": "text"
      },
      "source": [
        "<a href=\"https://colab.research.google.com/github/jluftschein/Lab2/blob/master/FinalLab2_10_heuristics.ipynb\" target=\"_parent\"><img src=\"https://colab.research.google.com/assets/colab-badge.svg\" alt=\"Open In Colab\"/></a>"
      ]
    },
    {
      "cell_type": "markdown",
      "metadata": {
        "id": "6JgrRYtyWUTc",
        "colab_type": "text"
      },
      "source": [
        "# Ten Usability Heuristics\n",
        "\n",
        "### Developed by Jakob Nielsen"
      ]
    },
    {
      "cell_type": "markdown",
      "metadata": {
        "id": "ep30Q_iPWdnT",
        "colab_type": "text"
      },
      "source": [
        "For our lab, we will be evaluating the ten heuristics using the following webpage: \n",
        "\n",
        "https://www.adika.com/\n"
      ]
    },
    {
      "cell_type": "markdown",
      "metadata": {
        "id": "p1w1Wmt5WuFD",
        "colab_type": "text"
      },
      "source": [
        "### Visibility of system status\n",
        "The system should always keep users informed about what is going on, through appropriate feedback within reasonable time.\n",
        "\n",
        "- ![Visibility](https://raw.githubusercontent.com/jluftschein/Lab2/master/Screen%20Shot%202020-09-18%20at%204.35.47%20PM.png) \n",
        "\n",
        "Visibility of system status is when the webpage provides feedback for the user. On the website Adika when you go to check out and order your clothing that you want, at the top they have listed Cart > Information > Shipping > Payment. The parts that are bolded are the ones that you have already completed and the words not bolded still need to be completed and you must go through the words in order to get to the end. This shows how Adika gives the users feedback with this progress bar."
      ]
    },
    {
      "cell_type": "markdown",
      "metadata": {
        "id": "gL-x1q02W1Vk",
        "colab_type": "text"
      },
      "source": [
        "### Match between system and the real world\n",
        "The system should speak the users' language, with words, phrases and concepts familiar to the user, rather than system-oriented terms. Follow real-world conventions, making information appear in a natural and logical order.\n",
        "\n",
        "- ![System and real world](https://raw.githubusercontent.com/jluftschein/Lab2/master/Screen%20Shot%202020-09-18%20at%203.53.55%20PM.png)\n",
        "\n",
        "Matching between the system and the real world is both a challenging and crucial aspect of the ten heuristics. In the example above, there are three graphics with links to shop “SHOP TOPS,” “BEST SELLERS” and “THE TIKTOK EDIT.” The targeted audience for Adika’s Website is women between ages 15-30 and that is also a targeted age range for the popular app TikTok. By adhering to what the audience wants, it increases the likelihood of people returning to the website and also creates a better connection between the system and the real world. \n",
        "\n"
      ]
    },
    {
      "cell_type": "markdown",
      "metadata": {
        "id": "p9WB5-rtZd9I",
        "colab_type": "text"
      },
      "source": [
        "### User control and freedom\n",
        "Users often choose system functions by mistake and will need a clearly marked \"emergency exit\" to leave the unwanted state without having to go through an extended dialogue. Support undo and redo.\n",
        "\n",
        "- ![User control and freedom](https://raw.githubusercontent.com/jluftschein/Lab2/master/Screen%20Shot%202020-09-18%20at%204.48.49%20PM.png) \n",
        "\n",
        "On the Adika website there is a clear exit if the user decides that they may not be ready to place an order or if they change their mind on the clothing order. At the bottom of the page once you start filling in your information, there are two buttons, a continue to shipping button and then a return to cart button. The return to cart button is written clearly and is the “clear exit” on this site. \n"
      ]
    },
    {
      "cell_type": "markdown",
      "metadata": {
        "id": "lX7j0pZ8Zedg",
        "colab_type": "text"
      },
      "source": [
        "### Consistency and standards\n",
        "Users should not have to wonder whether different words, situations, or actions mean the same thing. Follow platform conventions.\n",
        "\n",
        "- ![Consistency and standards](https://raw.githubusercontent.com/jluftschein/Lab2/master/Screen%20Shot%202020-09-18%20at%204.49.56%20PM.png)\n",
        "\n",
        "This heuristic is when there are buttons on the top of the screen that are always available no matter what page on the website you go to. On Adika the top bar of buttons include New, Clothing, Shoes, Bags, Accessories, Best Sellers, Shop Our IG, The Edit, Young, and Sale. These buttons are always present whether you want to go look at shoes, or tops, or jewelry, these buttons are always there so that the user can go look at other parts of the webpage when they are done. "
      ]
    },
    {
      "cell_type": "markdown",
      "metadata": {
        "id": "ER6ArHdmZfSI",
        "colab_type": "text"
      },
      "source": [
        "### Error prevention\n",
        "Even better than good error messages is a careful design which prevents a problem from occurring in the first place. Either eliminate error-prone conditions or check for them and present users with a confirmation option before they commit to the action.\n",
        "\n",
        "- ![Error prevention](https://raw.githubusercontent.com/jluftschein/Lab2/master/Screen%20Shot%202020-09-18%20at%204.50.50%20PM.png) \n",
        "\n",
        "The above picture displays error prevention. The “Cart > Information > Shipping > Payment” are examples of this. The website uses this heuristic as the user cannot proceed to the next step until they have filled out all information on the prior one. This is not allowing the user to move to the next form until they submit the previous form. \n"
      ]
    },
    {
      "cell_type": "markdown",
      "metadata": {
        "id": "9M3cqXkLZf7B",
        "colab_type": "text"
      },
      "source": [
        "### Recognition rather than recall\n",
        "Error messages should be expressed in plain language (no codes), precisely indicate the problem, and constructively suggest a solution.\n",
        "\n",
        "![Recognition rather than recall](https://raw.githubusercontent.com/jluftschein/Lab2/master/Screen%20Shot%202020-09-18%20at%204.51.33%20PM.png)\n",
        "\n",
        "This example on Adika’s website does not adhere to the recognition rather than recall heuristic. If this were to be effective, when you would search for an item on the web page it should have a list of drop down options that the website has filled in for you. Here, Adika does not do that. It does not auto fill in the rest of the sentence requiring the user to actually recall and not recognize. \n"
      ]
    },
    {
      "cell_type": "markdown",
      "metadata": {
        "id": "B4xOtXMWZgfp",
        "colab_type": "text"
      },
      "source": [
        "### Flexibility and efficiency of use \n",
        "Accelerators -- unseen by the novice user -- may often speed up the interaction for the expert user such that the system can cater to both inexperienced and experienced users. Allow users to tailor frequent actions.\n",
        "\n",
        "- ![Flexibility and efficiency of use](https://raw.githubusercontent.com/jluftschein/Lab2/master/Screen%20Shot%202020-09-18%20at%204.52.54%20PM.png)\n",
        "\n",
        "On the Adika web page, we would consider the money at the top right corner to be part of the flexibility and efficiency heuristic. This allows users to right away, when they get on the web page, to be able to change their monetary amount based on where they live. This is very flexible as they have a drop down of options for the users and its right on the page and clear to see. \n"
      ]
    },
    {
      "cell_type": "markdown",
      "metadata": {
        "id": "F968s-f-ZhGA",
        "colab_type": "text"
      },
      "source": [
        "### Aesthetic and minimalist design\n",
        "Dialogues should not contain information which is irrelevant or rarely needed. Every extra unit of information in a dialogue competes with the relevant units of information and diminishes their relative visibility.\n",
        "\n",
        "- ![Aesthetic and minimalist design](https://raw.githubusercontent.com/jluftschein/Lab2/master/Screen%20Shot%202020-09-18%20at%204.12.52%20PM.png)\n",
        "\n",
        "Maintaining an aesthetic and minimalist design throughout a website is so important to keep the audience interested and comprehensive the whole time. In the example above, the website is having a sale and so the only words and information on the opening page are relating to the sale. The information listed about the sale is even written in small phrases to keep the audience confident in what is happening. This is a prime example of keeping the page minimal and to the point. \n"
      ]
    },
    {
      "cell_type": "markdown",
      "metadata": {
        "id": "WFtkqJ8wZhjx",
        "colab_type": "text"
      },
      "source": [
        "### Help users recognize, diagnose, and recover from errors\n",
        "Error messages should be expressed in plain language (no codes), precisely indicate the problem, and constructively suggest a solution.\n",
        "\n",
        "- ![Recognize, diagnose, and recover](https://raw.githubusercontent.com/jluftschein/Lab2/master/Screen%20Shot%202020-09-18%20at%204.18.13%20PM.png) \n",
        "\n",
        "Helping users recognize and recover from errors is very beneficial in maintaining a happy customer. When there is an error by the customer’s wrongdoing, it is better to address the problem and fix it. This allows for the customer to continue shopping and move past the mistake. In the example above, I had tried to use a coupon code that I found online for Adika’s website. Unfortunately, that code had expired but Adika informed me right away and I tried to look for other codes. This is better than not addressing a problem and keeping the customer out of the loop."
      ]
    },
    {
      "cell_type": "markdown",
      "metadata": {
        "id": "x8_uAFYHZifo",
        "colab_type": "text"
      },
      "source": [
        "### Help and documentation\n",
        "Even though it is better if the system can be used without documentation, it may be necessary to provide help and documentation. Any such information should be easy to search, focused on the user's task, list concrete steps to be carried out, and not be too large.\n",
        "\n",
        "- ![Help and documentation](https://raw.githubusercontent.com/jluftschein/Lab2/master/Screen%20Shot%202020-09-18%20at%204.55.20%20PM.png) \n",
        "\n",
        "Even though it is better if the system can be used without documentation, it may be necessary to provide help and documentation. Any such information should be easy to search, focused on the user's task, list concrete steps to be carried out, and not be too large.\n"
      ]
    }
  ]
}